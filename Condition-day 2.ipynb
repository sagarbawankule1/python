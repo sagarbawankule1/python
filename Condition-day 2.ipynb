{
 "cells": [
  {
   "cell_type": "code",
   "execution_count": 1,
   "id": "d0c0e1ac-ff8d-48e0-9431-81defcecf468",
   "metadata": {},
   "outputs": [
    {
     "name": "stdin",
     "output_type": "stream",
     "text": [
      " sagar\n"
     ]
    }
   ],
   "source": [
    "x = input()"
   ]
  },
  {
   "cell_type": "code",
   "execution_count": 2,
   "id": "84053225-83a7-4d35-9426-558f2b32fdc1",
   "metadata": {},
   "outputs": [
    {
     "name": "stdin",
     "output_type": "stream",
     "text": [
      " sagar\n",
      " 25\n",
      " m\n"
     ]
    }
   ],
   "source": [
    "x = input() # name \n",
    "b = input () # age\n",
    "c = input () # sex"
   ]
  },
  {
   "cell_type": "code",
   "execution_count": 3,
   "id": "c4345171-4a3a-4623-a755-2aad0c17ae15",
   "metadata": {},
   "outputs": [
    {
     "name": "stdin",
     "output_type": "stream",
     "text": [
      "Enter first number \n",
      " 50\n",
      "Enter second number \n",
      " 60\n"
     ]
    },
    {
     "name": "stdout",
     "output_type": "stream",
     "text": [
      "First number is smaller than second\n"
     ]
    }
   ],
   "source": [
    "number1 = int(input(\"Enter first number \\n\"))\n",
    "number2 = int(input(\"Enter second number \\n\"))\n",
    "\n",
    "if number1 == number2:\n",
    "    print(\"Both numbers are same\")\n",
    "else:\n",
    "    if number1 > number2:\n",
    "        print(\"First number is bigger than second\")\n",
    "    else:\n",
    "        print(\"First number is smaller than second\")"
   ]
  },
  {
   "cell_type": "code",
   "execution_count": 4,
   "id": "1dc31ef5-de56-4762-95ec-f297f3b03d61",
   "metadata": {},
   "outputs": [
    {
     "name": "stdin",
     "output_type": "stream",
     "text": [
      "Enter a number\n",
      " 251555\n"
     ]
    },
    {
     "name": "stdout",
     "output_type": "stream",
     "text": [
      "Number is odd\n"
     ]
    }
   ],
   "source": [
    "number = int(input(\"Enter a number\\n\")) # if number entered in string then it will throw error\n",
    "\n",
    "if number % 2 == 0 :  \n",
    "    print(\"Number is even\")\n",
    "else:\n",
    "    print(\"Number is odd\")"
   ]
  },
  {
   "cell_type": "code",
   "execution_count": 5,
   "id": "519ebd8e-9f45-4c1e-ad27-3e56ba761cda",
   "metadata": {},
   "outputs": [
    {
     "name": "stdin",
     "output_type": "stream",
     "text": [
      "Enter the lenght in centimeter\n",
      " 500\n"
     ]
    },
    {
     "name": "stdout",
     "output_type": "stream",
     "text": [
      "500.0  cm =  196.8503937007874  inches\n"
     ]
    }
   ],
   "source": [
    "length_in_cm = input(\"Enter the lenght in centimeter\\n\")\n",
    "\n",
    "length_in_cm = float(length_in_cm)\n",
    "    \n",
    "if length_in_cm < 0 :\n",
    "    print(\"You have entered negative value. \")\n",
    "else:\n",
    "    length_in_inches = length_in_cm / 2.54\n",
    "    print(length_in_cm, \" cm = \", length_in_inches, \" inches\")"
   ]
  },
  {
   "cell_type": "code",
   "execution_count": 6,
   "id": "b732cb0b-96ef-4b31-b1e2-86d2f821a0b0",
   "metadata": {},
   "outputs": [
    {
     "name": "stdin",
     "output_type": "stream",
     "text": [
      "Enter the lenght in centimeter\n",
      " 425\n"
     ]
    },
    {
     "name": "stdout",
     "output_type": "stream",
     "text": [
      "425.0  cm =  167.3228346456693  inches\n"
     ]
    }
   ],
   "source": [
    "length_in_cm = input(\"Enter the lenght in centimeter\\n\")\n",
    "\n",
    "length_in_cm = float(length_in_cm)\n",
    "    \n",
    "if length_in_cm < 0 :\n",
    "    print(\"You have entered negative value. \")\n",
    "else:\n",
    "    length_in_inches = length_in_cm / 2.54\n",
    "    print(length_in_cm, \" cm = \", length_in_inches, \" inches\")"
   ]
  },
  {
   "cell_type": "code",
   "execution_count": 14,
   "id": "6c141d27-9f8b-4b79-a5eb-0faff4727aac",
   "metadata": {},
   "outputs": [
    {
     "name": "stdout",
     "output_type": "stream",
     "text": [
      " may be i wont be able to buy a jacket \n"
     ]
    }
   ],
   "source": [
    "price = 122212545\n",
    "\n",
    "if price > 500 : \n",
    "    print(\" may be i wont be able to buy a jacket \")\n",
    "elif price < 500 :\n",
    "    print(\"i will be able to buy a jacket\")\n",
    "elif  price == 500 :\n",
    "    print(\"for sure i will be able to buy\")\n",
    "else  :\n",
    "    print(\"i dont know\")"
   ]
  },
  {
   "cell_type": "code",
   "execution_count": 18,
   "id": "f4dbfb04-f40f-4e45-888b-376fb9eab62a",
   "metadata": {},
   "outputs": [
    {
     "name": "stdout",
     "output_type": "stream",
     "text": [
      "try to perform a task \n"
     ]
    }
   ],
   "source": [
    "lis = [1,2,3,4,5,6]\n",
    "\n",
    "if 2 in lis :\n",
    "    print(\"try to perform a task \")\n",
    "else :\n",
    "    print(\"do not perform this task\")"
   ]
  },
  {
   "cell_type": "code",
   "execution_count": 19,
   "id": "99b94826-db06-49ac-bfbf-18d928a40691",
   "metadata": {},
   "outputs": [
    {
     "name": "stdout",
     "output_type": "stream",
     "text": [
      "do not perform this task\n"
     ]
    }
   ],
   "source": [
    "lis = [1,2,3,4,5,6]\n",
    "\n",
    "if 1252 in lis :\n",
    "    print(\"try to perform a task \")\n",
    "else :\n",
    "    print(\"do not perform this task\")"
   ]
  },
  {
   "cell_type": "code",
   "execution_count": 20,
   "id": "a6b608f9-5397-4d77-ae46-6300680800cd",
   "metadata": {},
   "outputs": [
    {
     "name": "stdout",
     "output_type": "stream",
     "text": [
      "try to perform a task \n"
     ]
    }
   ],
   "source": [
    "lis = [1,2,3,4,5,6]\n",
    "\n",
    "if 60 not in lis :\n",
    "    print(\"try to perform a task \")\n",
    "else :\n",
    "    print(\"do not perform this task\")"
   ]
  },
  {
   "cell_type": "code",
   "execution_count": 21,
   "id": "f74dbcc0-5945-4b38-828e-987fa078edcb",
   "metadata": {},
   "outputs": [
    {
     "name": "stdout",
     "output_type": "stream",
     "text": [
      "try to do sub\n",
      "this is new statement\n"
     ]
    }
   ],
   "source": [
    "lis = [1,2,3,4,5,6]\n",
    "\n",
    "if 10 in lis :\n",
    "    print(\"try to do a addition\")\n",
    "elif 2 in lis :\n",
    "    print(\"try to do sub\")\n",
    "elif 3 in lis :\n",
    "    print(\"try to do mul\")\n",
    "if 4 in lis :\n",
    "    print(\"this is new statement\")"
   ]
  },
  {
   "cell_type": "code",
   "execution_count": 22,
   "id": "282c4a51-1edf-4a8e-acbe-cf377687f849",
   "metadata": {},
   "outputs": [
    {
     "name": "stdin",
     "output_type": "stream",
     "text": [
      " 454515\n"
     ]
    },
    {
     "name": "stdout",
     "output_type": "stream",
     "text": [
      "i wont be able to buy anything with this price tag\n"
     ]
    }
   ],
   "source": [
    "price  = int(input())\n",
    "\n",
    "if price  < 500 :\n",
    "    print(\"i will be able to buy something\")\n",
    "    print()\n",
    "    if price < 400 :\n",
    "        print(\"i will be able to buy a jacket\")\n",
    "    elif price < 300 :\n",
    "        print(\"i will be able to buy a shirt\")\n",
    "        if price < 200 :\n",
    "            print(\"i would like to do sometign\")\n",
    "    else :\n",
    "        print(\"i wont be able to buy anyting\")\n",
    "else :\n",
    "     print(\"i wont be able to buy anything with this price tag\")"
   ]
  },
  {
   "cell_type": "code",
   "execution_count": 23,
   "id": "e65f917b-f571-47dc-bc4a-06a7bf35f967",
   "metadata": {},
   "outputs": [
    {
     "name": "stdin",
     "output_type": "stream",
     "text": [
      " 451546\n"
     ]
    },
    {
     "name": "stdout",
     "output_type": "stream",
     "text": [
      "you will get IIT\n",
      "you will get IIM\n"
     ]
    }
   ],
   "source": [
    "marks = int(input())\n",
    "\n",
    "if marks < 600:\n",
    "    print(\"NO GRE\")\n",
    "    if marks < 500:\n",
    "        print(\"TOFEL\")\n",
    "        if marks < 400:\n",
    "            print(\"Try something else\")\n",
    "    else:\n",
    "        print(\"YOU GOT TOFEL\")\n",
    "        \n",
    "elif marks > 600:\n",
    "    print(\"you will get IIT\")\n",
    "    if marks > 700:\n",
    "        print(\"you will get IIM\")\n",
    "    else:\n",
    "        print(\"try next time\")\n",
    "else:\n",
    "    print(\"You got GRE congratulations\")"
   ]
  },
  {
   "cell_type": "code",
   "execution_count": 24,
   "id": "6bee6e2c-7fc8-40fd-8821-fcdc08d67167",
   "metadata": {},
   "outputs": [
    {
     "name": "stdin",
     "output_type": "stream",
     "text": [
      "enter a floating point number 45151\n"
     ]
    },
    {
     "name": "stdout",
     "output_type": "stream",
     "text": [
      "enter value is a positive number \n"
     ]
    }
   ],
   "source": [
    "val  = float(input(\"enter a floating point number\"))\n",
    "\n",
    "if val >= 0 :\n",
    "    if val == 0 :\n",
    "        print(\"entered value is zero\")\n",
    "    else :\n",
    "        print(\"enter value is a positive number \")\n",
    "else :\n",
    "    print(\"entered number is a negative number\")"
   ]
  },
  {
   "cell_type": "code",
   "execution_count": 25,
   "id": "a15dfeb4-9edd-4412-b765-682b08bed612",
   "metadata": {},
   "outputs": [
    {
     "name": "stdin",
     "output_type": "stream",
     "text": [
      "entrance exam marks 14525\n"
     ]
    },
    {
     "name": "stdout",
     "output_type": "stream",
     "text": [
      "700\n"
     ]
    }
   ],
   "source": [
    "mark = int(input(\"entrance exam marks\"))\n",
    "\n",
    "if mark > 700:\n",
    "    print(\"700\")\n",
    "elif mark == 600:\n",
    "    print()\n",
    "else:\n",
    "    print()"
   ]
  },
  {
   "cell_type": "code",
   "execution_count": 26,
   "id": "e95c9f1b-ff87-4216-a81b-f72459835111",
   "metadata": {},
   "outputs": [
    {
     "name": "stdin",
     "output_type": "stream",
     "text": [
      "entrance exam marks  300\n"
     ]
    },
    {
     "name": "stdout",
     "output_type": "stream",
     "text": [
      "you will get NIT\n",
      "you will get IIT\n",
      "you will get IIM\n",
      "you should go abroad\n"
     ]
    }
   ],
   "source": [
    "ark = int(input(\"entrance exam marks \"))\n",
    "\n",
    "if mark > 500:\n",
    "    print(\"you will get NIT\")\n",
    "    \n",
    "    if mark > 600:\n",
    "        print(\"you will get IIT\")\n",
    "        \n",
    "        if mark > 700:\n",
    "            print(\"you will get IIM\")\n",
    "            \n",
    "            if mark > 800:\n",
    "                print(\"you should go abroad\")\n",
    "            else:\n",
    "                print(\"little more effort needed for abroad\")\n",
    "                \n",
    "        else:\n",
    "            print(\"mark shorten to get IIM\")\n",
    "            \n",
    "    else:\n",
    "        print(\"little more effort needed for IIT \")\n",
    "        \n",
    "elif mark == 500:\n",
    "    print(\"you will get University college\")\n",
    "else:\n",
    "    print(\"Take drop and work hard\") "
   ]
  },
  {
   "cell_type": "code",
   "execution_count": 27,
   "id": "01936ec7-3017-4ce2-ac5a-6f062243839a",
   "metadata": {},
   "outputs": [
    {
     "name": "stdin",
     "output_type": "stream",
     "text": [
      "entrance exam marks  455\n"
     ]
    },
    {
     "name": "stdout",
     "output_type": "stream",
     "text": [
      "you will get NIT\n",
      "you will get IIT\n",
      "you will get IIM\n",
      "you should go abroad\n"
     ]
    }
   ],
   "source": [
    "ark = int(input(\"entrance exam marks \"))\n",
    "\n",
    "if mark > 500:\n",
    "    print(\"you will get NIT\")\n",
    "    \n",
    "    if mark > 600:\n",
    "        print(\"you will get IIT\")\n",
    "        \n",
    "        if mark > 700:\n",
    "            print(\"you will get IIM\")\n",
    "            \n",
    "            if mark > 800:\n",
    "                print(\"you should go abroad\")\n",
    "            else:\n",
    "                print(\"little more effort needed for abroad\")\n",
    "                \n",
    "        else:\n",
    "            print(\"mark shorten to get IIM\")\n",
    "            \n",
    "    else:\n",
    "        print(\"little more effort needed for IIT \")\n",
    "        \n",
    "elif mark == 500:\n",
    "    print(\"you will get University college\")\n",
    "else:\n",
    "    print(\"Take drop and work hard\") "
   ]
  },
  {
   "cell_type": "code",
   "execution_count": 28,
   "id": "61c8828c-85e8-40af-8d28-14acbe2a3d03",
   "metadata": {},
   "outputs": [
    {
     "name": "stdin",
     "output_type": "stream",
     "text": [
      "entrance exam marks  2225\n"
     ]
    },
    {
     "name": "stdout",
     "output_type": "stream",
     "text": [
      "you will get NIT\n",
      "you will get IIT\n",
      "you will get IIM\n",
      "you should go abroad\n"
     ]
    }
   ],
   "source": [
    "ark = int(input(\"entrance exam marks \"))\n",
    "\n",
    "if mark > 500:\n",
    "    print(\"you will get NIT\")\n",
    "    \n",
    "    if mark > 600:\n",
    "        print(\"you will get IIT\")\n",
    "        \n",
    "        if mark > 700:\n",
    "            print(\"you will get IIM\")\n",
    "            \n",
    "            if mark > 800:\n",
    "                print(\"you should go abroad\")\n",
    "            else:\n",
    "                print(\"little more effort needed for abroad\")\n",
    "                \n",
    "        else:\n",
    "            print(\"mark shorten to get IIM\")\n",
    "            \n",
    "    else:\n",
    "        print(\"little more effort needed for IIT \")\n",
    "        \n",
    "elif mark == 500:\n",
    "    print(\"you will get University college\")\n",
    "else:\n",
    "    print(\"Take drop and work hard\") "
   ]
  },
  {
   "cell_type": "code",
   "execution_count": 29,
   "id": "d568b250-ac3e-4e45-a56f-22c0757fade0",
   "metadata": {},
   "outputs": [
    {
     "name": "stdin",
     "output_type": "stream",
     "text": [
      "enter a number  1\n"
     ]
    },
    {
     "name": "stdout",
     "output_type": "stream",
     "text": [
      "it is a prime number\n"
     ]
    }
   ],
   "source": [
    "n = int(input(\"enter a number \"))\n",
    "\n",
    "if n==2:\n",
    "    print(\"it is a prime number \", n)\n",
    "elif n==3:\n",
    "    print(\"it is a prime number \", n)\n",
    "elif n%3==0 or n%2==0 or n%5==0 or n%7==0:\n",
    "    print(\"it is divisible by 3 or 2 or 5\")\n",
    "else:\n",
    "    print(\"it is a prime number\")"
   ]
  },
  {
   "cell_type": "code",
   "execution_count": 30,
   "id": "957838b4-f125-4580-8a8e-ecd72e2b2413",
   "metadata": {},
   "outputs": [
    {
     "name": "stdin",
     "output_type": "stream",
     "text": [
      "enter a number  7\n"
     ]
    },
    {
     "name": "stdout",
     "output_type": "stream",
     "text": [
      "it is divisible by 3 or 2 or 5\n"
     ]
    }
   ],
   "source": [
    "n = int(input(\"enter a number \"))\n",
    "\n",
    "if n==2:\n",
    "    print(\"it is a prime number \", n)\n",
    "elif n==3:\n",
    "    print(\"it is a prime number \", n)\n",
    "elif n%3==0 or n%2==0 or n%5==0 or n%7==0:\n",
    "    print(\"it is divisible by 3 or 2 or 5\")\n",
    "else:\n",
    "    print(\"it is a prime number\")"
   ]
  },
  {
   "cell_type": "code",
   "execution_count": 31,
   "id": "fc3cd041-fc44-4c2b-8a4f-1cbc4826995d",
   "metadata": {},
   "outputs": [
    {
     "name": "stdin",
     "output_type": "stream",
     "text": [
      "enter a name of employee  sagar\n",
      "enter gender of employee   m\n",
      "enter basic salary of employee  35000\n",
      "enter experience  8\n",
      "enter incrament rate  0.15\n"
     ]
    },
    {
     "name": "stdout",
     "output_type": "stream",
     "text": [
      "gross_salary - 77000\n",
      "net_salary - 71750\n",
      "Bonus =  10045.000000000002\n",
      "Get promoted \n",
      "Early promoted \n"
     ]
    }
   ],
   "source": [
    "name = input(\"enter a name of employee \")\n",
    "gender = input(\"enter gender of employee  \")\n",
    "first_base_salary = int(input(\"enter basic salary of employee \"))\n",
    "year_of_experience = eval(input(\"enter experience \"))\n",
    "salary_increase_rate = eval(input(\"enter incrament rate \"))\n",
    "\n",
    "gross_salary = first_base_salary * (1 + salary_increase_rate * year_of_experience)\n",
    "gross_salary = int(gross_salary)\n",
    "net_salary = gross_salary - (first_base_salary*0.15)\n",
    "net_salary = int(net_salary)\n",
    "print(\"gross_salary -\", gross_salary)\n",
    "print(\"net_salary -\", net_salary)\n",
    "\n",
    "bonus_thresold = 2\n",
    "\n",
    "if year_of_experience >= 10:\n",
    "    if gender == \"f\":\n",
    "        bonus_rate = 0.2\n",
    "        bonus = net_salary * bonus_rate\n",
    "        print(\"Bonus = \", int(bonus))\n",
    "        if year_of_experience <=15 and gross_salary >= 100000:\n",
    "            aditional_bonus = 11000\n",
    "            total_bonus = bonus + aditional_bonus\n",
    "            print(\"overall_Bonus = \", bonus, \"+\", aditional_bonus,\"=\", int(total_bonus))\n",
    "            if net_salary >= 100000:\n",
    "                print(\"You will get early personal cabin\")\n",
    "        if year_of_experience > 15 and net_salary >= 100000:\n",
    "            aditional_bonus = 11000\n",
    "            total_bonus = bonus + aditional_bonus\n",
    "            print(\"overall_Bonus = \", bonus, \"+\", aditional_bonus,\"=\", int(total_bonus))\n",
    "            print(\"You will get personal cabin\")\n",
    "    elif gender == \"m\":\n",
    "        bonus_rate = 0.18\n",
    "        bonus = net_salary * bonus_rate\n",
    "        print(\"Bonus = \", int(bonus))\n",
    "        if year_of_experience <=15 and gross_salary >= 100000:\n",
    "            aditional_bonus = 10000\n",
    "            total_bonus = bonus + aditional_bonus\n",
    "            print(\"overall_Bonus = \", bonus, \"+\", aditional_bonus,\"=\", int(total_bonus))\n",
    "            if net_salary >= 100000:\n",
    "                print(\"You will get early personal cabin\")\n",
    "        if year_of_experience > 15 and net_salary >= 100000:\n",
    "            aditional_bonus = 10000\n",
    "            total_bonus = bonus + aditional_bonus\n",
    "            print(\"overall_Bonus = \", bonus, \"+\", aditional_bonus,\"=\", int(total_bonus))\n",
    "            print(\"You will get personal cabin\")  \n",
    "elif year_of_experience>= 6 < 10:\n",
    "    if gender == \"f\":\n",
    "        bonus_rate = 0.15\n",
    "        bonus = net_salary * bonus_rate\n",
    "        print(\"Bonus = \", bonus)\n",
    "        if gross_salary >= 75000:\n",
    "            print(\"Get promoted \")\n",
    "            if net_salary>= 70000:\n",
    "                print(\"Early promoted \")\n",
    "        else:\n",
    "            print(\"better luck next year\")\n",
    "    elif gender == \"m\":\n",
    "        bonus_rate = 0.14\n",
    "        bonus = net_salary * bonus_rate\n",
    "        print(\"Bonus = \", bonus)\n",
    "        if gross_salary >= 75000:\n",
    "            print(\"Get promoted \")\n",
    "            if net_salary>= 70000:\n",
    "                print(\"Early promoted \")\n",
    "        else:\n",
    "            print(\"better luck next year\")        \n",
    "elif year_of_experience > 2 <=5:\n",
    "    if gender == \"f\":\n",
    "        bonus_rate = 0.12\n",
    "        bonus = net_salary * bonus_rate\n",
    "        print(\"Bonus = \", bonus)\n",
    "        if gross_salary>= 50000:\n",
    "            print(\"Get regularization \")\n",
    "            if net_salary>= 45000:\n",
    "                print(\"Get early regularization\")\n",
    "    elif gender == \"m\":\n",
    "        bonus_rate = 0.10\n",
    "        bonus = net_salary * bonus_rate\n",
    "        print(\"Bonus = \", bonus)\n",
    "        if gross_salary>= 50000:\n",
    "            print(\"Get regularization \")\n",
    "            if net_salary>= 45000:\n",
    "                print(\"Get early regularization\")\n",
    "else:\n",
    "    print(\"No bonus for employee\")"
   ]
  },
  {
   "cell_type": "code",
   "execution_count": 32,
   "id": "0302c94f-83e7-4cc1-bb85-b2f35405a642",
   "metadata": {},
   "outputs": [
    {
     "name": "stdin",
     "output_type": "stream",
     "text": [
      "enter a name of employee  sagar\n",
      "enter gender of employee   m\n",
      "enter basic salary of employee  35000\n",
      "enter experience  8\n",
      "enter incrament rate  0.20\n"
     ]
    },
    {
     "name": "stdout",
     "output_type": "stream",
     "text": [
      "gross_salary - 91000\n",
      "net_salary - 85750\n"
     ]
    }
   ],
   "source": [
    "name = input(\"enter a name of employee \")\n",
    "gender = input(\"enter gender of employee  \")\n",
    "first_base_salary = int(input(\"enter basic salary of employee \"))\n",
    "year_of_experience = eval(input(\"enter experience \"))\n",
    "salary_increase_rate = eval(input(\"enter incrament rate \"))\n",
    "\n",
    "gross_salary = first_base_salary * (1 + salary_increase_rate * year_of_experience)\n",
    "gross_salary = int(gross_salary)\n",
    "net_salary = gross_salary - (first_base_salary*0.15)\n",
    "net_salary = int(net_salary)\n",
    "print(\"gross_salary -\", gross_salary)\n",
    "print(\"net_salary -\", net_salary)\n",
    "\n",
    "bonus_thresold = 2"
   ]
  },
  {
   "cell_type": "code",
   "execution_count": 34,
   "id": "585b5e75-83fd-4455-8004-49bbebc408ab",
   "metadata": {},
   "outputs": [
    {
     "name": "stdin",
     "output_type": "stream",
     "text": [
      "enter a name of employee  sagar\n",
      "enter gender of employee   m\n",
      "enter basic salary of employee  35000\n",
      "enter experience  12\n",
      "enter incrament rate  0.125\n"
     ]
    },
    {
     "name": "stdout",
     "output_type": "stream",
     "text": [
      "gross_salary - 87500\n",
      "net_salary - 82250\n"
     ]
    }
   ],
   "source": [
    "name = input(\"enter a name of employee \")\n",
    "gender = input(\"enter gender of employee  \")\n",
    "first_base_salary = int(input(\"enter basic salary of employee \"))\n",
    "year_of_experience = eval(input(\"enter experience \"))\n",
    "salary_increase_rate = eval(input(\"enter incrament rate \"))\n",
    "\n",
    "gross_salary = first_base_salary * (1 + salary_increase_rate * year_of_experience)\n",
    "gross_salary = int(gross_salary)\n",
    "net_salary = gross_salary - (first_base_salary*0.15)\n",
    "net_salary = int(net_salary)\n",
    "print(\"gross_salary -\", gross_salary)\n",
    "print(\"net_salary -\", net_salary)\n",
    "\n",
    "bonus_thresold = 2\n",
    "\n",
    "if year_of_experience >= 10:\n",
    "    if gender == \"f\":\n",
    "        bonus_rate = 0.2\n",
    "        bonus = net_salary * bonus_rate\n",
    "        print(\"Bonus = \", int(bonus))"
   ]
  },
  {
   "cell_type": "code",
   "execution_count": 35,
   "id": "1cbcb3be-4757-4168-9096-230d7e9f4849",
   "metadata": {},
   "outputs": [
    {
     "name": "stdin",
     "output_type": "stream",
     "text": [
      "enter a name of employee  sagar\n",
      "enter gender of employee   m\n",
      "enter basic salary of employee  35000\n",
      "enter experience  8\n",
      "enter incrament rate  0.20\n"
     ]
    },
    {
     "name": "stdout",
     "output_type": "stream",
     "text": [
      "gross_salary - 91000\n",
      "net_salary - 85750\n"
     ]
    }
   ],
   "source": [
    "name = input(\"enter a name of employee \")\n",
    "gender = input(\"enter gender of employee  \")\n",
    "first_base_salary = int(input(\"enter basic salary of employee \"))\n",
    "year_of_experience = eval(input(\"enter experience \"))\n",
    "salary_increase_rate = eval(input(\"enter incrament rate \"))\n",
    "\n",
    "gross_salary = first_base_salary * (1 + salary_increase_rate * year_of_experience)\n",
    "gross_salary = int(gross_salary)\n",
    "net_salary = gross_salary - (first_base_salary*0.15)\n",
    "net_salary = int(net_salary)\n",
    "print(\"gross_salary -\", gross_salary)\n",
    "print(\"net_salary -\", net_salary)\n",
    "\n",
    "bonus_thresold = 2\n",
    "\n",
    "if year_of_experience >= 10:\n",
    "    if gender == \"f\":\n",
    "        bonus_rate = 0.2\n",
    "        bonus = net_salary * bonus_rate\n",
    "        print(\"Bonus = \", int(bonus))\n",
    "        if year_of_experience <=15 and gross_salary >= 100000:\n",
    "            aditional_bonus = 11000\n",
    "            total_bonus = bonus + aditional_bonus\n",
    "            print(\"overall_Bonus = \", bonus, \"+\", aditional_bonus,\"=\", int(total_bonus))\n",
    "            if net_salary >= 100000:\n",
    "                print(\"You will get early personal cabin\")\n",
    "        if year_of_experience > 15 and net_salary >= 100000:\n",
    "            aditional_bonus = 11000\n",
    "            total_bonus = bonus + aditional_bonus\n",
    "            print(\"overall_Bonus = \", bonus, \"+\", aditional_bonus,\"=\", int(total_bonus))\n",
    "            print(\"You will get personal cabin\")\n",
    "    elif gender == \"m\":\n",
    "        bonus_rate = 0.18\n",
    "        bonus = net_salary * bonus_rate\n",
    "        print(\"Bonus = \", int(bonus))\n",
    "        if year_of_experience <=15 and gross_salary >= 100000:\n",
    "            aditional_bonus = 10000\n",
    "            total_bonus = bonus + aditional_bonus\n",
    "            print(\"overall_Bonus = \", bonus, \"+\", aditional_bonus,\"=\", int(total_bonus))\n",
    "            if net_salary >= 100000:\n",
    "                print(\"You will get early personal cabin\")\n",
    "        if year_of_experience > 15 and net_salary >= 100000:\n",
    "            aditional_bonus = 10000\n",
    "            total_bonus = bonus + aditional_bonus\n",
    "            print(\"overall_Bonus = \", bonus, \"+\", aditional_bonus,\"=\", int(total_bonus))\n",
    "            print(\"You will get personal cabin\")  "
   ]
  },
  {
   "cell_type": "code",
   "execution_count": 36,
   "id": "0e5ed094-afdf-4e53-af0c-90dacba7cd0b",
   "metadata": {},
   "outputs": [
    {
     "name": "stdin",
     "output_type": "stream",
     "text": [
      "enter a name of employee  sagar\n",
      "enter gender of employee   m\n",
      "enter basic salary of employee  400000\n",
      "enter experience  88\n",
      "enter incrament rate  0.125\n"
     ]
    },
    {
     "name": "stdout",
     "output_type": "stream",
     "text": [
      "gross_salary - 4800000\n",
      "net_salary - 4740000\n",
      "Bonus =  853200\n",
      "overall_Bonus =  853200.0 + 10000 = 863200\n",
      "You will get personal cabin\n"
     ]
    }
   ],
   "source": [
    "name = input(\"enter a name of employee \")\n",
    "gender = input(\"enter gender of employee  \")\n",
    "first_base_salary = int(input(\"enter basic salary of employee \"))\n",
    "year_of_experience = eval(input(\"enter experience \"))\n",
    "salary_increase_rate = eval(input(\"enter incrament rate \"))\n",
    "\n",
    "gross_salary = first_base_salary * (1 + salary_increase_rate * year_of_experience)\n",
    "gross_salary = int(gross_salary)\n",
    "net_salary = gross_salary - (first_base_salary*0.15)\n",
    "net_salary = int(net_salary)\n",
    "print(\"gross_salary -\", gross_salary)\n",
    "print(\"net_salary -\", net_salary)\n",
    "\n",
    "bonus_thresold = 2\n",
    "\n",
    "if year_of_experience >= 10:\n",
    "    if gender == \"f\":\n",
    "        bonus_rate = 0.2\n",
    "        bonus = net_salary * bonus_rate\n",
    "        print(\"Bonus = \", int(bonus))\n",
    "        if year_of_experience <=15 and gross_salary >= 100000:\n",
    "            aditional_bonus = 11000\n",
    "            total_bonus = bonus + aditional_bonus\n",
    "            print(\"overall_Bonus = \", bonus, \"+\", aditional_bonus,\"=\", int(total_bonus))\n",
    "            if net_salary >= 100000:\n",
    "                print(\"You will get early personal cabin\")\n",
    "        if year_of_experience > 15 and net_salary >= 100000:\n",
    "            aditional_bonus = 11000\n",
    "            total_bonus = bonus + aditional_bonus\n",
    "            print(\"overall_Bonus = \", bonus, \"+\", aditional_bonus,\"=\", int(total_bonus))\n",
    "            print(\"You will get personal cabin\")\n",
    "    elif gender == \"m\":\n",
    "        bonus_rate = 0.18\n",
    "        bonus = net_salary * bonus_rate\n",
    "        print(\"Bonus = \", int(bonus))\n",
    "        if year_of_experience <=15 and gross_salary >= 100000:\n",
    "            aditional_bonus = 10000\n",
    "            total_bonus = bonus + aditional_bonus\n",
    "            print(\"overall_Bonus = \", bonus, \"+\", aditional_bonus,\"=\", int(total_bonus))\n",
    "            if net_salary >= 100000:\n",
    "                print(\"You will get early personal cabin\")\n",
    "        if year_of_experience > 15 and net_salary >= 100000:\n",
    "            aditional_bonus = 10000\n",
    "            total_bonus = bonus + aditional_bonus\n",
    "            print(\"overall_Bonus = \", bonus, \"+\", aditional_bonus,\"=\", int(total_bonus))\n",
    "            print(\"You will get personal cabin\")  \n",
    "elif year_of_experience>= 6 < 10:\n",
    "    if gender == \"f\":\n",
    "        bonus_rate = 0.15\n",
    "        bonus = net_salary * bonus_rate\n",
    "        print(\"Bonus = \", bonus)\n",
    "        if gross_salary >= 75000:\n",
    "            print(\"Get promoted \")\n",
    "            if net_salary>= 70000:\n",
    "                print(\"Early promoted \")\n",
    "        else:\n",
    "            print(\"better luck next year\")\n",
    "    elif gender == \"m\":\n",
    "        bonus_rate = 0.14\n",
    "        bonus = net_salary * bonus_rate\n",
    "        print(\"Bonus = \", bonus)\n",
    "        if gross_salary >= 75000:\n",
    "            print(\"Get promoted \")\n",
    "            if net_salary>= 70000:\n",
    "                print(\"Early promoted \")\n",
    "        else:\n",
    "            print(\"better luck next year\")        \n",
    "elif year_of_experience > 2 <=5:\n",
    "    if gender == \"f\":\n",
    "        bonus_rate = 0.12\n",
    "        bonus = net_salary * bonus_rate\n",
    "        print(\"Bonus = \", bonus)\n",
    "        if gross_salary>= 50000:\n",
    "            print(\"Get regularization \")\n",
    "            if net_salary>= 45000:\n",
    "                print(\"Get early regularization\")\n",
    "    elif gender == \"m\":\n",
    "        bonus_rate = 0.10\n",
    "        bonus = net_salary * bonus_rate\n",
    "        print(\"Bonus = \", bonus)\n",
    "        if gross_salary>= 50000:\n",
    "            print(\"Get regularization \")\n",
    "            if net_salary>= 45000:\n",
    "                print(\"Get early regularization\")\n",
    "else:\n",
    "    print(\"No bonus for employee\")"
   ]
  }
 ],
 "metadata": {
  "kernelspec": {
   "display_name": "Python 3 (ipykernel)",
   "language": "python",
   "name": "python3"
  },
  "language_info": {
   "codemirror_mode": {
    "name": "ipython",
    "version": 3
   },
   "file_extension": ".py",
   "mimetype": "text/x-python",
   "name": "python",
   "nbconvert_exporter": "python",
   "pygments_lexer": "ipython3",
   "version": "3.11.7"
  }
 },
 "nbformat": 4,
 "nbformat_minor": 5
}
