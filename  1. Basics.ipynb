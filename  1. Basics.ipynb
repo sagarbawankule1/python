{
 "cells": [
  {
   "cell_type": "code",
   "execution_count": 1,
   "id": "ec1022cd-7307-4168-bc43-8af5070d9c14",
   "metadata": {},
   "outputs": [
    {
     "name": "stdout",
     "output_type": "stream",
     "text": [
      "sagar\n"
     ]
    }
   ],
   "source": [
    "x = \"sagar\"\n",
    "print(x)"
   ]
  },
  {
   "cell_type": "code",
   "execution_count": 2,
   "id": "c8451f57-e780-4541-9962-4b8d0fae1e0b",
   "metadata": {},
   "outputs": [
    {
     "data": {
      "text/plain": [
       "13"
      ]
     },
     "execution_count": 2,
     "metadata": {},
     "output_type": "execute_result"
    }
   ],
   "source": [
    "5+8"
   ]
  },
  {
   "cell_type": "code",
   "execution_count": 3,
   "id": "274cd217-7a5d-4a61-a9e0-b62c8db27a78",
   "metadata": {},
   "outputs": [
    {
     "data": {
      "text/plain": [
       "3.5"
      ]
     },
     "execution_count": 3,
     "metadata": {},
     "output_type": "execute_result"
    }
   ],
   "source": [
    "7/2"
   ]
  },
  {
   "cell_type": "code",
   "execution_count": 4,
   "id": "68d61a8e-ea0a-4097-ad0e-c1ee4591429f",
   "metadata": {},
   "outputs": [
    {
     "data": {
      "text/plain": [
       "1"
      ]
     },
     "execution_count": 4,
     "metadata": {},
     "output_type": "execute_result"
    }
   ],
   "source": [
    "7%2"
   ]
  },
  {
   "cell_type": "code",
   "execution_count": 5,
   "id": "136caf64-08dd-49ef-a25b-3e99adf6a67a",
   "metadata": {},
   "outputs": [
    {
     "data": {
      "text/plain": [
       "1"
      ]
     },
     "execution_count": 5,
     "metadata": {},
     "output_type": "execute_result"
    }
   ],
   "source": [
    "31%6"
   ]
  },
  {
   "cell_type": "code",
   "execution_count": 6,
   "id": "c218b540-d428-4a82-868c-1fced6c38ab1",
   "metadata": {},
   "outputs": [
    {
     "data": {
      "text/plain": [
       "0"
      ]
     },
     "execution_count": 6,
     "metadata": {},
     "output_type": "execute_result"
    }
   ],
   "source": [
    "55//588"
   ]
  },
  {
   "cell_type": "code",
   "execution_count": 7,
   "id": "9731bae4-17f5-4dce-b258-c93ab144ed5a",
   "metadata": {},
   "outputs": [
    {
     "data": {
      "text/plain": [
       "101"
      ]
     },
     "execution_count": 7,
     "metadata": {},
     "output_type": "execute_result"
    }
   ],
   "source": [
    "5599//55"
   ]
  },
  {
   "cell_type": "code",
   "execution_count": 11,
   "id": "f9031ab5-40c5-4feb-a71c-7b6c8938af6c",
   "metadata": {},
   "outputs": [],
   "source": [
    "#_Example:_\n",
    "\n",
    "# Variables in Python\n",
    "first_name = 'Asabeneh'\n",
    "last_name = 'Yetayeh'\n",
    "country = 'Finland'\n",
    "city = 'Helsinki'\n",
    "age = 250\n",
    "is_married = True\n",
    "skills = ['HTML', 'CSS', 'JS', 'React', 'Python']\n",
    "person_info = {\n",
    "   'firstname':'Asabeneh',\n",
    "   'lastname':'Yetayeh',\n",
    "   'country':'Finland',\n",
    "   'city':'Helsinki'\n",
    "   }"
   ]
  },
  {
   "cell_type": "code",
   "execution_count": 12,
   "id": "ca1411d4-256e-4ab8-ae62-48adfbda7590",
   "metadata": {},
   "outputs": [
    {
     "name": "stdout",
     "output_type": "stream",
     "text": [
      "3556\n"
     ]
    }
   ],
   "source": [
    "var = 3556\n",
    "print(var)"
   ]
  },
  {
   "cell_type": "code",
   "execution_count": null,
   "id": "936ac8fb-3a7a-40c6-9f75-9f07894b750f",
   "metadata": {},
   "outputs": [],
   "source": [
    "var_1 = 5675548485158856"
   ]
  },
  {
   "cell_type": "code",
   "execution_count": 13,
   "id": "fb02f576-8ddb-413c-8bbc-92cd25968e8a",
   "metadata": {},
   "outputs": [
    {
     "ename": "NameError",
     "evalue": "name 'var_1' is not defined",
     "output_type": "error",
     "traceback": [
      "\u001b[1;31m---------------------------------------------------------------------------\u001b[0m",
      "\u001b[1;31mNameError\u001b[0m                                 Traceback (most recent call last)",
      "Cell \u001b[1;32mIn[13], line 1\u001b[0m\n\u001b[1;32m----> 1\u001b[0m \u001b[38;5;28mprint\u001b[39m(var_1)\n",
      "\u001b[1;31mNameError\u001b[0m: name 'var_1' is not defined"
     ]
    }
   ],
   "source": [
    "print(var_1)"
   ]
  },
  {
   "cell_type": "code",
   "execution_count": 14,
   "id": "35afa824-2fe4-40da-8766-c6395dc0f064",
   "metadata": {},
   "outputs": [
    {
     "name": "stdout",
     "output_type": "stream",
     "text": [
      "5445\n"
     ]
    }
   ],
   "source": [
    "_ = 5445\n",
    "print(_)"
   ]
  },
  {
   "cell_type": "code",
   "execution_count": 15,
   "id": "3ee3edc7-45d8-4796-b217-8f3739470c38",
   "metadata": {},
   "outputs": [
    {
     "name": "stdout",
     "output_type": "stream",
     "text": [
      "sagar\n"
     ]
    }
   ],
   "source": [
    "abc = \"sagar\"\n",
    "print(abc)"
   ]
  },
  {
   "cell_type": "code",
   "execution_count": null,
   "id": "af403a0c-c87e-44c8-9128-2709e2573286",
   "metadata": {},
   "outputs": [],
   "source": [
    "l = 54444"
   ]
  },
  {
   "cell_type": "code",
   "execution_count": 18,
   "id": "1d24c540-8d6c-493b-b3e0-349f9aa4b24d",
   "metadata": {},
   "outputs": [
    {
     "name": "stdout",
     "output_type": "stream",
     "text": [
      "\n"
     ]
    }
   ],
   "source": [
    "print()"
   ]
  },
  {
   "cell_type": "code",
   "execution_count": 19,
   "id": "a0b850d3-4806-4a32-b015-ce54ffba98e8",
   "metadata": {},
   "outputs": [
    {
     "name": "stdout",
     "output_type": "stream",
     "text": [
      "554454\n"
     ]
    }
   ],
   "source": [
    "kkk = 554454 \n",
    "print(kkk)"
   ]
  },
  {
   "cell_type": "code",
   "execution_count": 20,
   "id": "5837460f-8782-4a0c-a931-6e7df88d2a8f",
   "metadata": {},
   "outputs": [
    {
     "data": {
      "text/plain": [
       "int"
      ]
     },
     "execution_count": 20,
     "metadata": {},
     "output_type": "execute_result"
    }
   ],
   "source": [
    "type(kkk)"
   ]
  },
  {
   "cell_type": "code",
   "execution_count": 21,
   "id": "a1a8b19c-c145-4b5f-8f0d-c797d0677e09",
   "metadata": {},
   "outputs": [
    {
     "data": {
      "text/plain": [
       "str"
      ]
     },
     "execution_count": 21,
     "metadata": {},
     "output_type": "execute_result"
    }
   ],
   "source": [
    "type(abc)"
   ]
  },
  {
   "cell_type": "code",
   "execution_count": 22,
   "id": "6097ca09-dbb3-4438-92cd-ab717448b279",
   "metadata": {},
   "outputs": [
    {
     "name": "stdout",
     "output_type": "stream",
     "text": [
      "Hello, World!\n"
     ]
    }
   ],
   "source": [
    "print('Hello, World!')\n"
   ]
  },
  {
   "cell_type": "code",
   "execution_count": 23,
   "id": "f4b0b75b-0e60-496c-9f94-05815911a90f",
   "metadata": {},
   "outputs": [
    {
     "name": "stdout",
     "output_type": "stream",
     "text": [
      "Hello , World !\n"
     ]
    }
   ],
   "source": [
    "print('Hello',',', 'World','!') "
   ]
  },
  {
   "cell_type": "code",
   "execution_count": 24,
   "id": "1f3fdd29-10ee-43e5-a2f1-afc1b36d7d5c",
   "metadata": {},
   "outputs": [
    {
     "name": "stdout",
     "output_type": "stream",
     "text": [
      "13\n"
     ]
    }
   ],
   "source": [
    "print(len('Hello, World!'))"
   ]
  },
  {
   "cell_type": "code",
   "execution_count": 28,
   "id": "35d5d8b1-5c2b-473a-b114-2749998dc9e3",
   "metadata": {},
   "outputs": [
    {
     "name": "stdout",
     "output_type": "stream",
     "text": [
      "First name: Asabeneh\n",
      "First name length: 8\n",
      "Last name:  Yetayeh\n",
      "Last name length:  7\n",
      "Country:  Finland\n",
      "City:  Helsinki\n",
      "Age:  250\n",
      "Married:  True\n",
      "Skills:  ['HTML', 'CSS', 'JS', 'React', 'Python']\n"
     ]
    },
    {
     "ename": "NameError",
     "evalue": "name 'person_info' is not defined",
     "output_type": "error",
     "traceback": [
      "\u001b[1;31m---------------------------------------------------------------------------\u001b[0m",
      "\u001b[1;31mNameError\u001b[0m                                 Traceback (most recent call last)",
      "Cell \u001b[1;32mIn[28], line 10\u001b[0m\n\u001b[0;32m      8\u001b[0m \u001b[38;5;28mprint\u001b[39m(\u001b[38;5;124m'\u001b[39m\u001b[38;5;124mMarried: \u001b[39m\u001b[38;5;124m'\u001b[39m, is_married)\n\u001b[0;32m      9\u001b[0m \u001b[38;5;28mprint\u001b[39m(\u001b[38;5;124m'\u001b[39m\u001b[38;5;124mSkills: \u001b[39m\u001b[38;5;124m'\u001b[39m, skills)\n\u001b[1;32m---> 10\u001b[0m \u001b[38;5;28mprint\u001b[39m(\u001b[38;5;124m'\u001b[39m\u001b[38;5;124mPerson information: \u001b[39m\u001b[38;5;124m'\u001b[39m, person_info)\n",
      "\u001b[1;31mNameError\u001b[0m: name 'person_info' is not defined"
     ]
    }
   ],
   "source": [
    "print('First name:', first_name)\n",
    "print('First name length:', len(first_name))\n",
    "print('Last name: ', last_name)\n",
    "print('Last name length: ', len(last_name))\n",
    "print('Country: ', country)\n",
    "print('City: ', city)\n",
    "print('Age: ', age)\n",
    "print('Married: ', is_married)\n",
    "print('Skills: ', skills)\n",
    "print('Person information: ', person_info)"
   ]
  },
  {
   "cell_type": "code",
   "execution_count": 29,
   "id": "0b7399a5-abf1-4960-827e-8eb11e320dab",
   "metadata": {},
   "outputs": [
    {
     "name": "stdout",
     "output_type": "stream",
     "text": [
      "Asabeneh Yetayeh Helsink 250 True\n",
      "First name: Asabeneh\n",
      "Last name:  Yetayeh\n",
      "Country:  Helsink\n",
      "Age:  250\n",
      "Married:  True\n"
     ]
    }
   ],
   "source": [
    "\n",
    "first_name, last_name, country, age, is_married = 'Asabeneh', 'Yetayeh', 'Helsink', 250, True\n",
    "\n",
    "print(first_name, last_name, country, age, is_married)\n",
    "print('First name:', first_name)\n",
    "print('Last name: ', last_name)\n",
    "print('Country: ', country)\n",
    "print('Age: ', age)\n",
    "print('Married: ', is_married)"
   ]
  },
  {
   "cell_type": "code",
   "execution_count": 30,
   "id": "1130f755-323e-434d-83ad-2ea96d01e07b",
   "metadata": {},
   "outputs": [
    {
     "name": "stdin",
     "output_type": "stream",
     "text": [
      "What is your name:  sagar\n"
     ]
    }
   ],
   "source": [
    "\n",
    "first_name = input('What is your name: ')"
   ]
  },
  {
   "cell_type": "code",
   "execution_count": 34,
   "id": "989c98f5-fbb8-48bb-b875-c949ef055d11",
   "metadata": {},
   "outputs": [
    {
     "ename": "SyntaxError",
     "evalue": "invalid syntax (2846680603.py, line 1)",
     "output_type": "error",
     "traceback": [
      "\u001b[1;36m  Cell \u001b[1;32mIn[34], line 1\u001b[1;36m\u001b[0m\n\u001b[1;33m    first name = input('name: ')\u001b[0m\n\u001b[1;37m          ^\u001b[0m\n\u001b[1;31mSyntaxError\u001b[0m\u001b[1;31m:\u001b[0m invalid syntax\n"
     ]
    }
   ],
   "source": [
    "first name = input('name: ')"
   ]
  },
  {
   "cell_type": "code",
   "execution_count": 36,
   "id": "e824ff34-17c1-4b45-9910-f7dffa7a5108",
   "metadata": {},
   "outputs": [
    {
     "name": "stdin",
     "output_type": "stream",
     "text": [
      "what is your name:  sagar\n"
     ]
    }
   ],
   "source": [
    "first_name = input('what is your name: ')"
   ]
  },
  {
   "cell_type": "code",
   "execution_count": 37,
   "id": "a9b4afbe-4da3-45c2-9e93-8cacf37b9a5e",
   "metadata": {},
   "outputs": [
    {
     "name": "stdin",
     "output_type": "stream",
     "text": [
      "name:  sagar\n"
     ]
    }
   ],
   "source": [
    "first_name = input('name: ')"
   ]
  },
  {
   "cell_type": "code",
   "execution_count": 38,
   "id": "4e098f13-b470-48ee-837b-e3d7c6baf4c9",
   "metadata": {},
   "outputs": [
    {
     "name": "stdin",
     "output_type": "stream",
     "text": [
      "How old are you?  25\n"
     ]
    }
   ],
   "source": [
    "age = input('How old are you? ')\n"
   ]
  },
  {
   "cell_type": "code",
   "execution_count": 40,
   "id": "27cb8ab0-271b-41e3-9ee5-ab9b1d36cde5",
   "metadata": {},
   "outputs": [
    {
     "name": "stdout",
     "output_type": "stream",
     "text": [
      "sagar\n",
      "25\n"
     ]
    }
   ],
   "source": [
    "print(first_name)\n",
    "print(age)"
   ]
  },
  {
   "cell_type": "code",
   "execution_count": 41,
   "id": "47dab088-01ef-4489-ba84-5458844d535e",
   "metadata": {},
   "outputs": [
    {
     "name": "stdin",
     "output_type": "stream",
     "text": [
      " 5\n"
     ]
    },
    {
     "data": {
      "text/plain": [
       "'5'"
      ]
     },
     "execution_count": 41,
     "metadata": {},
     "output_type": "execute_result"
    }
   ],
   "source": [
    "input()"
   ]
  },
  {
   "cell_type": "code",
   "execution_count": 42,
   "id": "0221a87e-492f-473c-b6a4-82577e20cb9f",
   "metadata": {},
   "outputs": [
    {
     "name": "stdin",
     "output_type": "stream",
     "text": [
      "number is : 55655\n"
     ]
    },
    {
     "data": {
      "text/plain": [
       "'55655'"
      ]
     },
     "execution_count": 42,
     "metadata": {},
     "output_type": "execute_result"
    }
   ],
   "source": [
    "input(\"number is :\")"
   ]
  },
  {
   "cell_type": "code",
   "execution_count": 44,
   "id": "a1dbb839-2f0b-4a9b-91c0-83e8de208f7e",
   "metadata": {},
   "outputs": [
    {
     "data": {
      "text/plain": [
       "str"
      ]
     },
     "execution_count": 44,
     "metadata": {},
     "output_type": "execute_result"
    }
   ],
   "source": [
    "type(\"unmber is\")"
   ]
  },
  {
   "cell_type": "code",
   "execution_count": 45,
   "id": "83e9a478-ecca-4579-abab-a3a97a41917d",
   "metadata": {},
   "outputs": [],
   "source": [
    "\n",
    "first_name = 'Asabeneh'     # str\n",
    "last_name = 'Yetayeh'       # str\n",
    "country = 'Finland'         # str\n",
    "city= 'Helsinki'            # str\n",
    "age = 250                   # int, it is not my real age, don't worry about it"
   ]
  },
  {
   "cell_type": "code",
   "execution_count": 46,
   "id": "0d7f4c18-793c-48b1-8c82-c6af83c44991",
   "metadata": {},
   "outputs": [
    {
     "name": "stdout",
     "output_type": "stream",
     "text": [
      "Asabeneh\n"
     ]
    }
   ],
   "source": [
    "print(first_name)"
   ]
  },
  {
   "cell_type": "code",
   "execution_count": 47,
   "id": "1eff005d-735b-47d9-b15e-1e8e742e19c6",
   "metadata": {},
   "outputs": [
    {
     "name": "stdout",
     "output_type": "stream",
     "text": [
      "<class 'str'>\n",
      "<class 'str'>\n",
      "<class 'int'>\n",
      "<class 'float'>\n",
      "<class 'complex'>\n",
      "<class 'bool'>\n",
      "<class 'list'>\n",
      "<class 'dict'>\n",
      "<class 'tuple'>\n",
      "<class 'zip'>\n"
     ]
    }
   ],
   "source": [
    "# Printing out types\n",
    "print(type('Asabeneh'))     # str\n",
    "print(type(first_name))     # str\n",
    "print(type(10))             # int\n",
    "print(type(3.14))           # float\n",
    "print(type(1 + 1j))         # complex\n",
    "print(type(True))           # bool\n",
    "print(type([1, 2, 3, 4]))     # list\n",
    "print(type({'name':'Asabeneh','age':250, 'is_married':250}))    # dict\n",
    "print(type((1,2)))                                              # tuple\n",
    "print(type(zip([1,2],[3,4])))                                   # set"
   ]
  },
  {
   "cell_type": "code",
   "execution_count": 48,
   "id": "acdd7019-e127-4c04-8e41-9bb3c6949544",
   "metadata": {},
   "outputs": [
    {
     "data": {
      "text/plain": [
       "set"
      ]
     },
     "execution_count": 48,
     "metadata": {},
     "output_type": "execute_result"
    }
   ],
   "source": [
    "type({3,5.5, \"py\", True})"
   ]
  },
  {
   "cell_type": "code",
   "execution_count": 49,
   "id": "b6d20445-b96c-4d5d-8686-5f5c12cc9d3f",
   "metadata": {},
   "outputs": [
    {
     "data": {
      "text/plain": [
       "set"
      ]
     },
     "execution_count": 49,
     "metadata": {},
     "output_type": "execute_result"
    }
   ],
   "source": [
    "type({5,5.6, \"py\", True})"
   ]
  },
  {
   "cell_type": "code",
   "execution_count": 50,
   "id": "c8704b36-1eb3-4011-a7b7-99ed999179d6",
   "metadata": {},
   "outputs": [
    {
     "name": "stdout",
     "output_type": "stream",
     "text": [
      "num_int 10\n"
     ]
    }
   ],
   "source": [
    "num_int = 10\n",
    "print('num_int',num_int) "
   ]
  },
  {
   "cell_type": "code",
   "execution_count": 51,
   "id": "3b5ef43b-e969-484c-8c4d-2835184c226b",
   "metadata": {},
   "outputs": [
    {
     "name": "stdout",
     "output_type": "stream",
     "text": [
      "num_float: 10.0\n"
     ]
    }
   ],
   "source": [
    "num_float = float(num_int)\n",
    "print('num_float:', num_float)"
   ]
  },
  {
   "cell_type": "code",
   "execution_count": 53,
   "id": "36d517a9-1ad2-4451-85d2-4173f1408edb",
   "metadata": {},
   "outputs": [
    {
     "data": {
      "text/plain": [
       "int"
      ]
     },
     "execution_count": 53,
     "metadata": {},
     "output_type": "execute_result"
    }
   ],
   "source": [
    "\n",
    "num = 56\n",
    "type(num)"
   ]
  },
  {
   "cell_type": "code",
   "execution_count": 54,
   "id": "b05e4a36-edc4-43df-be88-92297dc3f6a7",
   "metadata": {},
   "outputs": [
    {
     "data": {
      "text/plain": [
       "float"
      ]
     },
     "execution_count": 54,
     "metadata": {},
     "output_type": "execute_result"
    }
   ],
   "source": [
    "type(float(num))"
   ]
  },
  {
   "cell_type": "code",
   "execution_count": 55,
   "id": "05af9a06-b2e7-4b1e-9fa3-52b65fee3997",
   "metadata": {},
   "outputs": [
    {
     "data": {
      "text/plain": [
       "30"
      ]
     },
     "execution_count": 55,
     "metadata": {},
     "output_type": "execute_result"
    }
   ],
   "source": [
    "dec = 30.55\n",
    "int(dec)\n",
    "\n"
   ]
  },
  {
   "cell_type": "code",
   "execution_count": 56,
   "id": "c820388b-d9d5-4689-98da-34ff4bef7ee2",
   "metadata": {},
   "outputs": [
    {
     "data": {
      "text/plain": [
       "'5678'"
      ]
     },
     "execution_count": 56,
     "metadata": {},
     "output_type": "execute_result"
    }
   ],
   "source": [
    "\n",
    "digit = 5678\n",
    "str(digit)"
   ]
  },
  {
   "cell_type": "code",
   "execution_count": 57,
   "id": "421241c7-4059-4643-9620-f879cf1eb93d",
   "metadata": {},
   "outputs": [
    {
     "ename": "ValueError",
     "evalue": "invalid literal for int() with base 10: 'python'",
     "output_type": "error",
     "traceback": [
      "\u001b[1;31m---------------------------------------------------------------------------\u001b[0m",
      "\u001b[1;31mValueError\u001b[0m                                Traceback (most recent call last)",
      "Cell \u001b[1;32mIn[57], line 3\u001b[0m\n\u001b[0;32m      1\u001b[0m str1 \u001b[38;5;241m=\u001b[39m \u001b[38;5;124m\"\u001b[39m\u001b[38;5;124mpython\u001b[39m\u001b[38;5;124m\"\u001b[39m\n\u001b[1;32m----> 3\u001b[0m \u001b[38;5;28mint\u001b[39m(str1)\n",
      "\u001b[1;31mValueError\u001b[0m: invalid literal for int() with base 10: 'python'"
     ]
    }
   ],
   "source": [
    "str1 = \"python\"\n",
    "\n",
    "int(str1)"
   ]
  },
  {
   "cell_type": "code",
   "execution_count": 58,
   "id": "5c9f9fd5-50e1-4e40-b135-13fd76c902b2",
   "metadata": {},
   "outputs": [
    {
     "data": {
      "text/plain": [
       "str"
      ]
     },
     "execution_count": 58,
     "metadata": {},
     "output_type": "execute_result"
    }
   ],
   "source": [
    "str2 = \"2716498\"\n",
    "type(str2)"
   ]
  },
  {
   "cell_type": "code",
   "execution_count": 59,
   "id": "12728b06-ecf4-487b-b571-ab407e1f9615",
   "metadata": {},
   "outputs": [
    {
     "data": {
      "text/plain": [
       "2716498"
      ]
     },
     "execution_count": 59,
     "metadata": {},
     "output_type": "execute_result"
    }
   ],
   "source": [
    "int(str2)"
   ]
  },
  {
   "cell_type": "markdown",
   "id": "03669fee-7a08-48c9-9ffc-67c6576b33b3",
   "metadata": {},
   "source": [
    "### Exercises: Level 1"
   ]
  },
  {
   "cell_type": "markdown",
   "id": "3932f205-aadb-44b6-b213-07d569ef9cf1",
   "metadata": {},
   "source": [
    "## 1. Inside 30DaysOfPython create a folder called day_2. Inside this folder create a file named variables.py"
   ]
  },
  {
   "cell_type": "code",
   "execution_count": 62,
   "id": "14b11793-47c9-41b0-a74a-5372f3b4b495",
   "metadata": {},
   "outputs": [
    {
     "name": "stdout",
     "output_type": "stream",
     "text": [
      "sagar bawankule\n"
     ]
    }
   ],
   "source": [
    "x = \"sagar bawankule\"\n",
    "print(x)"
   ]
  },
  {
   "cell_type": "code",
   "execution_count": 63,
   "id": "d0f1cd76-6d0b-4e41-b29c-6297d2d9e82a",
   "metadata": {},
   "outputs": [
    {
     "name": "stdout",
     "output_type": "stream",
     "text": [
      "Day 2: 30 Days of python programming\n"
     ]
    }
   ],
   "source": [
    "x =  'Day 2: 30 Days of python programming'\n",
    "print(x)"
   ]
  },
  {
   "cell_type": "code",
   "execution_count": 64,
   "id": "a73beeff-519b-42b9-83ca-038a5800e559",
   "metadata": {},
   "outputs": [
    {
     "name": "stdout",
     "output_type": "stream",
     "text": [
      "sagar\n"
     ]
    }
   ],
   "source": [
    "x = \"sagar\"\n",
    "print(x)"
   ]
  },
  {
   "cell_type": "code",
   "execution_count": 65,
   "id": "c96284b8-eb3a-4250-9dca-7e8d19cf6ca3",
   "metadata": {},
   "outputs": [
    {
     "name": "stdout",
     "output_type": "stream",
     "text": [
      "bawankule\n"
     ]
    }
   ],
   "source": [
    "x = \"bawankule\"\n",
    "print(x)"
   ]
  },
  {
   "cell_type": "code",
   "execution_count": 66,
   "id": "5fa750d9-6be6-4c78-a6fd-819ee4840c5a",
   "metadata": {},
   "outputs": [
    {
     "name": "stdout",
     "output_type": "stream",
     "text": [
      "sagar bawankule\n"
     ]
    }
   ],
   "source": [
    "x = \"sagar\"\n",
    "b = \"bawankule\"\n",
    "print(x, b)"
   ]
  },
  {
   "cell_type": "code",
   "execution_count": 67,
   "id": "8a70fdcb-5b51-443b-b639-8ea0e7b51bf3",
   "metadata": {},
   "outputs": [
    {
     "name": "stdout",
     "output_type": "stream",
     "text": [
      "INDIA\n"
     ]
    }
   ],
   "source": [
    "x = \"INDIA\"\n",
    "print(x)"
   ]
  },
  {
   "cell_type": "code",
   "execution_count": 68,
   "id": "59175b5e-c26d-4e11-995e-a44f55f398af",
   "metadata": {},
   "outputs": [
    {
     "name": "stdout",
     "output_type": "stream",
     "text": [
      "nagpur\n"
     ]
    }
   ],
   "source": [
    "x = \"nagpur\"\n",
    "print(x)"
   ]
  },
  {
   "cell_type": "code",
   "execution_count": 69,
   "id": "9bd21fa3-786e-4da6-a9a7-c313d6b6b692",
   "metadata": {},
   "outputs": [
    {
     "name": "stdout",
     "output_type": "stream",
     "text": [
      "sagar 25\n"
     ]
    }
   ],
   "source": [
    "x = \"sagar\"\n",
    "age = 25\n",
    "print(x , age)"
   ]
  },
  {
   "cell_type": "code",
   "execution_count": 70,
   "id": "810193e1-174f-4735-91c0-fd1f7738277b",
   "metadata": {},
   "outputs": [
    {
     "name": "stdout",
     "output_type": "stream",
     "text": [
      "2024\n"
     ]
    }
   ],
   "source": [
    "x = 2024\n",
    "print(x)"
   ]
  },
  {
   "cell_type": "code",
   "execution_count": 71,
   "id": "6f2c0093-8ba9-4c67-b436-e15dc787a450",
   "metadata": {},
   "outputs": [
    {
     "name": "stdout",
     "output_type": "stream",
     "text": [
      "blue apple dog\n"
     ]
    }
   ],
   "source": [
    "color, fruit, pet = \"blue\", \"apple\", \"dog\"\n",
    "print(color, fruit, pet)"
   ]
  },
  {
   "cell_type": "code",
   "execution_count": 73,
   "id": "ddc037af-005e-410d-ab8d-0b062196d695",
   "metadata": {},
   "outputs": [],
   "source": [
    "first_name = 'Asabeneh'\n",
    "last_name = 'Yetayeh'\n",
    "country = 'Finland'\n",
    "city = 'Helsinki'\n",
    "age = 250\n",
    "is_married = True\n",
    "is_'Asabeneh' = True"
   ]
  },
  {
   "cell_type": "code",
   "execution_count": 76,
   "id": "62b05f19-dba7-4958-ac7a-03bf9aa35be9",
   "metadata": {},
   "outputs": [
    {
     "name": "stdout",
     "output_type": "stream",
     "text": [
      "True\n"
     ]
    }
   ],
   "source": [
    "print(is_married)"
   ]
  },
  {
   "cell_type": "code",
   "execution_count": 78,
   "id": "d8b19419-9ac9-4587-a54e-654a6771af79",
   "metadata": {},
   "outputs": [
    {
     "ename": "SyntaxError",
     "evalue": "invalid syntax (499010147.py, line 1)",
     "output_type": "error",
     "traceback": [
      "\u001b[1;36m  Cell \u001b[1;32mIn[78], line 1\u001b[1;36m\u001b[0m\n\u001b[1;33m    print(is_'Asabeneh')\u001b[0m\n\u001b[1;37m             ^\u001b[0m\n\u001b[1;31mSyntaxError\u001b[0m\u001b[1;31m:\u001b[0m invalid syntax\n"
     ]
    }
   ],
   "source": [
    "print(is_'Asabeneh')"
   ]
  },
  {
   "cell_type": "markdown",
   "id": "2808e60c-6b17-46c1-901f-6f986fdefe93",
   "metadata": {},
   "source": [
    "\n",
    "### Exercises: Level 2"
   ]
  },
  {
   "cell_type": "code",
   "execution_count": 82,
   "id": "9c28f854-cbb2-4aa2-abbc-fcbf62458a8c",
   "metadata": {},
   "outputs": [],
   "source": [
    "first_name = \"Bard\"\n",
    "last_name = \"bawankule \"  # Add your last name here\n",
    "full_name = first_name + last_name\n",
    "country = \"Canada\"  # Replace with your country\n",
    "city = \"Toronto\"  # Replace with your city\n",
    "age = 29  # Replace with your age (if comfortable sharing)\n",
    "year = 2024  # Current year\n",
    "is_married = False  # Change to True if married\n",
    "is_true = True\n",
    "is_light_on = False"
   ]
  },
  {
   "cell_type": "code",
   "execution_count": 84,
   "id": "5ef5362d-ea96-47ea-a2bc-dcccc6b75c5f",
   "metadata": {},
   "outputs": [
    {
     "name": "stdout",
     "output_type": "stream",
     "text": [
      "Data types of your variables:\n",
      "first_name: <class 'str'>\n",
      "last_name: <class 'str'>\n",
      "full_name: <class 'str'>\n",
      "country: <class 'str'>\n",
      "city: <class 'str'>\n",
      "age: <class 'int'>\n",
      "year: <class 'int'>\n",
      "is_married: <class 'bool'>\n",
      "is_true: <class 'bool'>\n",
      "is_light_on: <class 'bool'>\n"
     ]
    }
   ],
   "source": [
    "# Print variable data types\n",
    "print(\"Data types of your variables:\")\n",
    "print(f\"first_name: {type(first_name)}\")\n",
    "print(f\"last_name: {type(last_name)}\")\n",
    "print(f\"full_name: {type(full_name)}\")\n",
    "print(f\"country: {type(country)}\")\n",
    "print(f\"city: {type(city)}\")\n",
    "print(f\"age: {type(age)}\")\n",
    "print(f\"year: {type(year)}\")\n",
    "print(f\"is_married: {type(is_married)}\")\n",
    "print(f\"is_true: {type(is_true)}\")\n",
    "print(f\"is_light_on: {type(is_light_on)}\")"
   ]
  },
  {
   "cell_type": "code",
   "execution_count": 87,
   "id": "18921e68-8cf2-4f80-841e-d741a368d48c",
   "metadata": {},
   "outputs": [
    {
     "ename": "SyntaxError",
     "evalue": "invalid syntax (693356944.py, line 2)",
     "output_type": "error",
     "traceback": [
      "\u001b[1;36m  Cell \u001b[1;32mIn[87], line 2\u001b[1;36m\u001b[0m\n\u001b[1;33m    print(f\"first_anme\": {type(first_anme)})\u001b[0m\n\u001b[1;37m                       ^\u001b[0m\n\u001b[1;31mSyntaxError\u001b[0m\u001b[1;31m:\u001b[0m invalid syntax\n"
     ]
    }
   ],
   "source": [
    "first_name = "
   ]
  },
  {
   "cell_type": "code",
   "execution_count": 88,
   "id": "cea966fd-10c3-494d-8ca4-b56e2ba266cf",
   "metadata": {},
   "outputs": [
    {
     "name": "stdout",
     "output_type": "stream",
     "text": [
      "<class 'str'>\n"
     ]
    }
   ],
   "source": [
    "x = \"sagar\"\n",
    "print(type(x))"
   ]
  },
  {
   "cell_type": "code",
   "execution_count": 94,
   "id": "fc7c02e0-89e8-4fb1-bf5e-3f4cf012ef19",
   "metadata": {},
   "outputs": [],
   "source": [
    "x123= \"bawankule\""
   ]
  },
  {
   "cell_type": "code",
   "execution_count": 89,
   "id": "c292b48b-ea65-46ca-8ca8-79870d64024c",
   "metadata": {},
   "outputs": [
    {
     "name": "stdout",
     "output_type": "stream",
     "text": [
      "<class 'str'>\n"
     ]
    }
   ],
   "source": [
    "x = \"bawankule\"\n",
    "print(type(x))"
   ]
  },
  {
   "cell_type": "code",
   "execution_count": 90,
   "id": "a865c903-1c74-447d-89fd-2417d3744557",
   "metadata": {},
   "outputs": [
    {
     "name": "stdout",
     "output_type": "stream",
     "text": [
      "<class 'str'>\n"
     ]
    }
   ],
   "source": [
    "country = \"Canada\"\n",
    "print(type(country))"
   ]
  },
  {
   "cell_type": "code",
   "execution_count": 95,
   "id": "4e2acab4-439b-48e0-9427-9a45bee4d42b",
   "metadata": {},
   "outputs": [
    {
     "name": "stdout",
     "output_type": "stream",
     "text": [
      "<class 'str'>\n",
      "<class 'str'>\n",
      "<class 'str'>\n"
     ]
    }
   ],
   "source": [
    "print(type(x))\n",
    "print(type(x123))\n",
    "print(type(country))"
   ]
  },
  {
   "cell_type": "code",
   "execution_count": 96,
   "id": "38d6f2eb-0629-4425-bec0-3912a58721ba",
   "metadata": {},
   "outputs": [
    {
     "name": "stdout",
     "output_type": "stream",
     "text": [
      "15\n"
     ]
    }
   ],
   "source": [
    "x = \"sagar bawankule\"\n",
    "print(len(x))"
   ]
  },
  {
   "cell_type": "code",
   "execution_count": 98,
   "id": "18c0975c-2453-4e25-8736-99775a22c4c2",
   "metadata": {},
   "outputs": [],
   "source": [
    "num_one = 5\n",
    "num_two = 4"
   ]
  },
  {
   "cell_type": "code",
   "execution_count": 103,
   "id": "23e7fd41-ddff-4554-a667-98a4fd999455",
   "metadata": {},
   "outputs": [
    {
     "name": "stdout",
     "output_type": "stream",
     "text": [
      "num_one num_two\n"
     ]
    }
   ],
   "source": [
    "print(\"num_one\",  \"num_two\")"
   ]
  },
  {
   "cell_type": "code",
   "execution_count": 110,
   "id": "497a8072-6e5a-4c6e-8e99-1980f121ba6f",
   "metadata": {},
   "outputs": [
    {
     "name": "stdout",
     "output_type": "stream",
     "text": [
      "2827.431\n"
     ]
    }
   ],
   "source": [
    "radius = 30\n",
    "area_of_circle = 3.14159* 30**2\n",
    "\n",
    "print(area_of_circle)\n"
   ]
  },
  {
   "cell_type": "code",
   "execution_count": 107,
   "id": "84b7fc00-010d-463f-a275-2e00ba971f3a",
   "metadata": {},
   "outputs": [
    {
     "name": "stdin",
     "output_type": "stream",
     "text": [
      "Enter your first name:  sagar\n",
      "Enter your last name:  bawankule\n",
      "Enter your country:  in\n",
      "Enter your age:  25\n"
     ]
    }
   ],
   "source": [
    "first_name = input(\"Enter your first name: \")\n",
    "last_name = input(\"Enter your last name: \")\n",
    "country = input(\"Enter your country: \")\n",
    "\n",
    "# Get age as an integer using type conversion\n",
    "age = int(input(\"Enter your age: \"))\n"
   ]
  },
  {
   "cell_type": "code",
   "execution_count": 108,
   "id": "15ae3d03-8ddc-47b2-917b-a417435f7eb7",
   "metadata": {},
   "outputs": [
    {
     "name": "stdin",
     "output_type": "stream",
     "text": [
      "name:  sagar\n"
     ]
    }
   ],
   "source": [
    "name = input(\"name: \")"
   ]
  },
  {
   "cell_type": "code",
   "execution_count": 111,
   "id": "a47ef92b-5429-468b-8e05-d5d3217770ed",
   "metadata": {},
   "outputs": [
    {
     "name": "stdout",
     "output_type": "stream",
     "text": [
      "188.49\n"
     ]
    }
   ],
   "source": [
    "# Calculate circumference\n",
    "circum_of_circle = 2 *  3.1415 *30\n",
    "print(circum_of_circle)\n"
   ]
  },
  {
   "cell_type": "code",
   "execution_count": 112,
   "id": "2b05903b-6ba3-4f62-a6b2-af28577de231",
   "metadata": {},
   "outputs": [
    {
     "name": "stdout",
     "output_type": "stream",
     "text": [
      "2827.3500000000004\n"
     ]
    }
   ],
   "source": [
    "# Calculate area of circle\n",
    "area_of_circle = 3.1415 * 30**2\n",
    "print(area_of_circle)"
   ]
  }
 ],
 "metadata": {
  "kernelspec": {
   "display_name": "Python 3 (ipykernel)",
   "language": "python",
   "name": "python3"
  },
  "language_info": {
   "codemirror_mode": {
    "name": "ipython",
    "version": 3
   },
   "file_extension": ".py",
   "mimetype": "text/x-python",
   "name": "python",
   "nbconvert_exporter": "python",
   "pygments_lexer": "ipython3",
   "version": "3.11.7"
  }
 },
 "nbformat": 4,
 "nbformat_minor": 5
}
